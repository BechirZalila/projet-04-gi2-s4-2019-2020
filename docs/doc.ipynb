{
 "cells": [
  {
   "cell_type": "markdown",
   "metadata": {},
   "source": [
    "# Documentation Pour Le Projet 4\n"
   ]
  },
  {
   "cell_type": "markdown",
   "metadata": {},
   "source": [
    "<img src=\"files/1.png\">"
   ]
  },
  {
   "cell_type": "markdown",
   "metadata": {},
   "source": [
    "## Le Code Source : 7 Scripts Python, 2 Fichier Text "
   ]
  },
  {
   "cell_type": "markdown",
   "metadata": {},
   "source": [
    "<img src=\"files/2.png\">"
   ]
  },
  {
   "cell_type": "markdown",
   "metadata": {},
   "source": [
    "##### I2C_LCD_driver : \n"
   ]
  },
  {
   "cell_type": "raw",
   "metadata": {},
   "source": [
    "    I2C_LCD is an easy-to-use display module, It can make display easier. \n",
    "    Using it can reduce the difficulty of make, so that makers can focus on the core of the work."
   ]
  },
  {
   "cell_type": "markdown",
   "metadata": {},
   "source": [
    "##### read_RPM : "
   ]
  },
  {
   "cell_type": "raw",
   "metadata": {},
   "source": [
    "    A class to read speedometer pulses and calculate the RPM (Nombre De Tours)."
   ]
  },
  {
   "cell_type": "markdown",
   "metadata": {},
   "source": [
    "#### trainer :"
   ]
  },
  {
   "cell_type": "raw",
   "metadata": {},
   "source": [
    "    Script pour construire le fichier freq (simple fichier text).\n",
    "    \n",
    "    Au debut, On teste la vitesse maximale et minimale du moteur, \n",
    "    on mettant la frequence resp. a 2500 & 1000 .\n",
    "        \n",
    "    On initialise la frequence a 1010 et on l'augumente de 2 apres \n",
    "    10 secondes progressivement , tout en ajoutant toutes les 5 \n",
    "    secondes la valeur retournee par le capteur 'IR' dans le fichier \n",
    "    'freq' ."
   ]
  },
  {
   "cell_type": "markdown",
   "metadata": {},
   "source": [
    "#### plot_frequency_graph :"
   ]
  },
  {
   "cell_type": "raw",
   "metadata": {},
   "source": [
    "    Script supplementaire pour tracer le graph FEQUENCY = f(RPM)"
   ]
  },
  {
   "cell_type": "markdown",
   "metadata": {},
   "source": [
    "#### recommended_frequency :"
   ]
  },
  {
   "cell_type": "raw",
   "metadata": {},
   "source": [
    "    Script Contenant deux Fonction capables de retourner \n",
    "    depuis les fichiers textes la 'Frequence Relative' a un \n",
    "    'Nombre De Tours' Souhaite."
   ]
  },
  {
   "cell_type": "markdown",
   "metadata": {},
   "source": [
    "#### motor_arm :"
   ]
  },
  {
   "cell_type": "raw",
   "metadata": {},
   "source": [
    "    Script pour interaction avec l'utilisateur et la manipulation \n",
    "    du moteur (MAIN SCRIPT) .\n",
    "    - Prend Le Nombre De Tours Souhaitee et fait des tentatives de \n",
    "        calibrage pour tendre vers ce Nombre De Tours .\n",
    "    - Responsable a l'affichage sur l'ecran LCD ."
   ]
  }
 ],
 "metadata": {
  "kernelspec": {
   "display_name": "Python 3",
   "language": "python",
   "name": "python3"
  },
  "language_info": {
   "codemirror_mode": {
    "name": "ipython",
    "version": 3
   },
   "file_extension": ".py",
   "mimetype": "text/x-python",
   "name": "python",
   "nbconvert_exporter": "python",
   "pygments_lexer": "ipython3",
   "version": "3.7.5"
  }
 },
 "nbformat": 4,
 "nbformat_minor": 2
}
